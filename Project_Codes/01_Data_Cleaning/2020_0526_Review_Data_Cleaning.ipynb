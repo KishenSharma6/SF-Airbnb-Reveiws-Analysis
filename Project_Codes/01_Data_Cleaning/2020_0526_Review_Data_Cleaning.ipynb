{
 "cells": [
  {
   "cell_type": "markdown",
   "metadata": {},
   "source": [
    "### Introduction\n",
    "\n",
    "In the following notebook, I will be cleaning a raw data file of review data from Inside Airbnb and concatenating review scores from a listings file."
   ]
  },
  {
   "cell_type": "markdown",
   "metadata": {},
   "source": [
    "**Read in libraries**"
   ]
  },
  {
   "cell_type": "code",
   "execution_count": 1,
   "metadata": {},
   "outputs": [],
   "source": [
    "import numpy as np\n",
    "import pandas as pd\n",
    "import swifter"
   ]
  },
  {
   "cell_type": "markdown",
   "metadata": {},
   "source": [
    "**Read in data**"
   ]
  },
  {
   "cell_type": "code",
   "execution_count": 2,
   "metadata": {},
   "outputs": [],
   "source": [
    "#Set path to data on local machine\n",
    "path = r'C:\\Users\\kishe\\Documents\\Data Science\\Projects\\Python\\In Progress\\Airbnb - San Francisco\\Data\\01_Raw\\SF Airbnb'\n",
    "\n",
    "#Read in data\n",
    "reviews = pd.read_csv(path + '/2020_0526_Aggregated_Reviews.csv',\n",
    "                 parse_dates= ['date'],index_col=0)\n",
    "\n",
    "#Set path to local machine\n",
    "path = r'C:\\Users\\kishe\\Documents\\Data Science\\Projects\\Python\\In Progress\\Airbnb - San Francisco\\Data\\02_Cleaned'\n",
    "\n",
    "#Read in data\n",
    "listings = pd.read_csv(path + '/2020_0520_Listings_Cleaned.csv', index_col=0,\n",
    "                parse_dates=['host_since','last_review'])"
   ]
  },
  {
   "cell_type": "markdown",
   "metadata": {},
   "source": [
    "### Data Overview"
   ]
  },
  {
   "cell_type": "markdown",
   "metadata": {},
   "source": [
    "**Preview Data**"
   ]
  },
  {
   "cell_type": "code",
   "execution_count": 3,
   "metadata": {},
   "outputs": [
    {
     "name": "stdout",
     "output_type": "stream",
     "text": [
      "Review data shape: (466004, 6)\n"
     ]
    },
    {
     "data": {
      "text/html": [
       "<div>\n",
       "<style scoped>\n",
       "    .dataframe tbody tr th:only-of-type {\n",
       "        vertical-align: middle;\n",
       "    }\n",
       "\n",
       "    .dataframe tbody tr th {\n",
       "        vertical-align: top;\n",
       "    }\n",
       "\n",
       "    .dataframe thead th {\n",
       "        text-align: right;\n",
       "    }\n",
       "</style>\n",
       "<table border=\"1\" class=\"dataframe\">\n",
       "  <thead>\n",
       "    <tr style=\"text-align: right;\">\n",
       "      <th></th>\n",
       "      <th>comments</th>\n",
       "      <th>date</th>\n",
       "      <th>id</th>\n",
       "      <th>listing_id</th>\n",
       "      <th>reviewer_id</th>\n",
       "      <th>reviewer_name</th>\n",
       "    </tr>\n",
       "  </thead>\n",
       "  <tbody>\n",
       "    <tr>\n",
       "      <th>0</th>\n",
       "      <td>Our experience was, without a doubt, a five st...</td>\n",
       "      <td>2009-07-23</td>\n",
       "      <td>5977</td>\n",
       "      <td>958</td>\n",
       "      <td>15695</td>\n",
       "      <td>Edmund C</td>\n",
       "    </tr>\n",
       "    <tr>\n",
       "      <th>1</th>\n",
       "      <td>Returning to San Francisco is a rejuvenating t...</td>\n",
       "      <td>2009-08-03</td>\n",
       "      <td>6660</td>\n",
       "      <td>958</td>\n",
       "      <td>26145</td>\n",
       "      <td>Simon</td>\n",
       "    </tr>\n",
       "    <tr>\n",
       "      <th>2</th>\n",
       "      <td>We were very pleased with the accommodations a...</td>\n",
       "      <td>2009-09-27</td>\n",
       "      <td>11519</td>\n",
       "      <td>958</td>\n",
       "      <td>25839</td>\n",
       "      <td>Denis</td>\n",
       "    </tr>\n",
       "  </tbody>\n",
       "</table>\n",
       "</div>"
      ],
      "text/plain": [
       "                                            comments       date     id  \\\n",
       "0  Our experience was, without a doubt, a five st... 2009-07-23   5977   \n",
       "1  Returning to San Francisco is a rejuvenating t... 2009-08-03   6660   \n",
       "2  We were very pleased with the accommodations a... 2009-09-27  11519   \n",
       "\n",
       "   listing_id  reviewer_id reviewer_name  \n",
       "0         958        15695      Edmund C  \n",
       "1         958        26145         Simon  \n",
       "2         958        25839         Denis  "
      ]
     },
     "metadata": {},
     "output_type": "display_data"
    }
   ],
   "source": [
    "#Display data, print shape\n",
    "print('Review data shape:', reviews.shape)\n",
    "display(reviews.head(3))"
   ]
  },
  {
   "cell_type": "markdown",
   "metadata": {},
   "source": [
    "**View data description**"
   ]
  },
  {
   "cell_type": "code",
   "execution_count": 4,
   "metadata": {},
   "outputs": [
    {
     "name": "stdout",
     "output_type": "stream",
     "text": [
      "<class 'pandas.core.frame.DataFrame'>\n",
      "Int64Index: 466004 entries, 0 to 359216\n",
      "Data columns (total 6 columns):\n",
      " #   Column         Non-Null Count   Dtype         \n",
      "---  ------         --------------   -----         \n",
      " 0   comments       465824 non-null  object        \n",
      " 1   date           466004 non-null  datetime64[ns]\n",
      " 2   id             466004 non-null  int64         \n",
      " 3   listing_id     466004 non-null  int64         \n",
      " 4   reviewer_id    466004 non-null  int64         \n",
      " 5   reviewer_name  466003 non-null  object        \n",
      "dtypes: datetime64[ns](1), int64(3), object(2)\n",
      "memory usage: 24.9+ MB\n"
     ]
    }
   ],
   "source": [
    "#View data description\n",
    "reviews.info()"
   ]
  },
  {
   "cell_type": "markdown",
   "metadata": {},
   "source": [
    "## Data Preparation"
   ]
  },
  {
   "cell_type": "markdown",
   "metadata": {},
   "source": [
    "**Subset cols from Listings for merge**"
   ]
  },
  {
   "cell_type": "code",
   "execution_count": 5,
   "metadata": {},
   "outputs": [
    {
     "data": {
      "text/html": [
       "<div>\n",
       "<style scoped>\n",
       "    .dataframe tbody tr th:only-of-type {\n",
       "        vertical-align: middle;\n",
       "    }\n",
       "\n",
       "    .dataframe tbody tr th {\n",
       "        vertical-align: top;\n",
       "    }\n",
       "\n",
       "    .dataframe thead th {\n",
       "        text-align: right;\n",
       "    }\n",
       "</style>\n",
       "<table border=\"1\" class=\"dataframe\">\n",
       "  <thead>\n",
       "    <tr style=\"text-align: right;\">\n",
       "      <th></th>\n",
       "      <th>id</th>\n",
       "      <th>review_scores_rating</th>\n",
       "      <th>last_review</th>\n",
       "      <th>host_id</th>\n",
       "    </tr>\n",
       "  </thead>\n",
       "  <tbody>\n",
       "    <tr>\n",
       "      <th>0</th>\n",
       "      <td>958</td>\n",
       "      <td>97.0</td>\n",
       "      <td>2020-03-13</td>\n",
       "      <td>1169</td>\n",
       "    </tr>\n",
       "    <tr>\n",
       "      <th>1</th>\n",
       "      <td>5858</td>\n",
       "      <td>98.0</td>\n",
       "      <td>2017-08-06</td>\n",
       "      <td>8904</td>\n",
       "    </tr>\n",
       "    <tr>\n",
       "      <th>2</th>\n",
       "      <td>7918</td>\n",
       "      <td>84.0</td>\n",
       "      <td>2020-03-06</td>\n",
       "      <td>21994</td>\n",
       "    </tr>\n",
       "    <tr>\n",
       "      <th>3</th>\n",
       "      <td>8142</td>\n",
       "      <td>93.0</td>\n",
       "      <td>2018-09-12</td>\n",
       "      <td>21994</td>\n",
       "    </tr>\n",
       "    <tr>\n",
       "      <th>4</th>\n",
       "      <td>8339</td>\n",
       "      <td>97.0</td>\n",
       "      <td>2019-06-28</td>\n",
       "      <td>24215</td>\n",
       "    </tr>\n",
       "  </tbody>\n",
       "</table>\n",
       "</div>"
      ],
      "text/plain": [
       "     id  review_scores_rating last_review  host_id\n",
       "0   958                  97.0  2020-03-13     1169\n",
       "1  5858                  98.0  2017-08-06     8904\n",
       "2  7918                  84.0  2020-03-06    21994\n",
       "3  8142                  93.0  2018-09-12    21994\n",
       "4  8339                  97.0  2019-06-28    24215"
      ]
     },
     "metadata": {},
     "output_type": "display_data"
    }
   ],
   "source": [
    "#Subset\n",
    "listings = listings[['id','review_scores_rating','last_review','host_id']]\n",
    "\n",
    "#Check\n",
    "display(listings.head())"
   ]
  },
  {
   "cell_type": "markdown",
   "metadata": {},
   "source": [
    "**Merge Data**"
   ]
  },
  {
   "cell_type": "code",
   "execution_count": 6,
   "metadata": {},
   "outputs": [
    {
     "data": {
      "text/html": [
       "<div>\n",
       "<style scoped>\n",
       "    .dataframe tbody tr th:only-of-type {\n",
       "        vertical-align: middle;\n",
       "    }\n",
       "\n",
       "    .dataframe tbody tr th {\n",
       "        vertical-align: top;\n",
       "    }\n",
       "\n",
       "    .dataframe thead th {\n",
       "        text-align: right;\n",
       "    }\n",
       "</style>\n",
       "<table border=\"1\" class=\"dataframe\">\n",
       "  <thead>\n",
       "    <tr style=\"text-align: right;\">\n",
       "      <th></th>\n",
       "      <th>comments</th>\n",
       "      <th>date</th>\n",
       "      <th>listing_id</th>\n",
       "      <th>reviewer_id</th>\n",
       "      <th>review_scores_rating</th>\n",
       "      <th>host_id</th>\n",
       "    </tr>\n",
       "  </thead>\n",
       "  <tbody>\n",
       "    <tr>\n",
       "      <th>7790</th>\n",
       "      <td>Paul has a super nice place and is a super nic...</td>\n",
       "      <td>2010-10-04</td>\n",
       "      <td>44680</td>\n",
       "      <td>140276</td>\n",
       "      <td>100.0</td>\n",
       "      <td>196626.0</td>\n",
       "    </tr>\n",
       "    <tr>\n",
       "      <th>10317</th>\n",
       "      <td>Did not stay here. There was a challenge that ...</td>\n",
       "      <td>2011-05-23</td>\n",
       "      <td>59831</td>\n",
       "      <td>501557</td>\n",
       "      <td>20.0</td>\n",
       "      <td>287859.0</td>\n",
       "    </tr>\n",
       "    <tr>\n",
       "      <th>12146</th>\n",
       "      <td>He's great. Location is perfect, especially if...</td>\n",
       "      <td>2011-09-30</td>\n",
       "      <td>71779</td>\n",
       "      <td>654056</td>\n",
       "      <td>60.0</td>\n",
       "      <td>368770.0</td>\n",
       "    </tr>\n",
       "    <tr>\n",
       "      <th>27172</th>\n",
       "      <td>Rebecca's studio is great. I felt completely a...</td>\n",
       "      <td>2011-11-23</td>\n",
       "      <td>261358</td>\n",
       "      <td>1395774</td>\n",
       "      <td>80.0</td>\n",
       "      <td>1257432.0</td>\n",
       "    </tr>\n",
       "    <tr>\n",
       "      <th>507880</th>\n",
       "      <td>Susie is a great hostess, very attentive and a...</td>\n",
       "      <td>2012-02-04</td>\n",
       "      <td>284811</td>\n",
       "      <td>1434864</td>\n",
       "      <td>80.0</td>\n",
       "      <td>1427641.0</td>\n",
       "    </tr>\n",
       "  </tbody>\n",
       "</table>\n",
       "</div>"
      ],
      "text/plain": [
       "                                                 comments       date  \\\n",
       "7790    Paul has a super nice place and is a super nic... 2010-10-04   \n",
       "10317   Did not stay here. There was a challenge that ... 2011-05-23   \n",
       "12146   He's great. Location is perfect, especially if... 2011-09-30   \n",
       "27172   Rebecca's studio is great. I felt completely a... 2011-11-23   \n",
       "507880  Susie is a great hostess, very attentive and a... 2012-02-04   \n",
       "\n",
       "        listing_id  reviewer_id  review_scores_rating    host_id  \n",
       "7790         44680       140276                 100.0   196626.0  \n",
       "10317        59831       501557                  20.0   287859.0  \n",
       "12146        71779       654056                  60.0   368770.0  \n",
       "27172       261358      1395774                  80.0  1257432.0  \n",
       "507880      284811      1434864                  80.0  1427641.0  "
      ]
     },
     "metadata": {},
     "output_type": "display_data"
    }
   ],
   "source": [
    "#Merge review and listings data\n",
    "merged_df = pd.merge(left = reviews, right=listings, how = 'left', left_on=['listing_id','date'], right_on=['id', 'last_review'])\n",
    "\n",
    "#Remove rows where review_scores_rating is na. Drop unnecessary cols and drop dupes\n",
    "merged_df = merged_df[~merged_df.review_scores_rating.isna()]\n",
    "merged_df.drop(['last_review','reviewer_name', 'id_x','id_y'], inplace =True, axis=1)\n",
    "merged_df.drop_duplicates(inplace=True)\n",
    "\n",
    "#Strip white space\n",
    "merged_df['comments'] = merged_df['comments'].str.strip()\n",
    "\n",
    "#Sort data by date\n",
    "merged_df.sort_values(by='date', inplace = True)\n",
    "\n",
    "#Check\n",
    "display(merged_df.head())"
   ]
  },
  {
   "cell_type": "markdown",
   "metadata": {},
   "source": [
    "## Data Cleaning"
   ]
  },
  {
   "cell_type": "markdown",
   "metadata": {},
   "source": [
    "**Drop columns not pertaining to NLP analysis**"
   ]
  },
  {
   "cell_type": "code",
   "execution_count": 7,
   "metadata": {},
   "outputs": [],
   "source": [
    "#Leave comments and review_scores_rating\n",
    "merged_df.drop(['date','listing_id','reviewer_id','host_id'], axis = 1, inplace = True)"
   ]
  },
  {
   "cell_type": "markdown",
   "metadata": {},
   "source": [
    "**Resolve missing values**"
   ]
  },
  {
   "cell_type": "code",
   "execution_count": 8,
   "metadata": {},
   "outputs": [
    {
     "name": "stdout",
     "output_type": "stream",
     "text": [
      "Missing values in merged_df:\n",
      " comments                30\n",
      "review_scores_rating     0\n",
      "dtype: int64\n"
     ]
    }
   ],
   "source": [
    "#View missing values\n",
    "print('Missing values in merged_df:\\n', merged_df.isna().sum())\n",
    "\n",
    "#Drop NA\n",
    "merged_df.dropna(inplace=True)"
   ]
  },
  {
   "cell_type": "markdown",
   "metadata": {},
   "source": [
    "**Comments mentioning automated review**"
   ]
  },
  {
   "cell_type": "code",
   "execution_count": 9,
   "metadata": {},
   "outputs": [
    {
     "data": {
      "text/plain": [
       "(39264, 2)"
      ]
     },
     "execution_count": 9,
     "metadata": {},
     "output_type": "execute_result"
    }
   ],
   "source": [
    "#Drop rows mentioning 'This is an automated posting.'\n",
    "merged_df = merged_df.loc[~(merged_df['comments'].str.contains('This is an automated posting.'))]\n",
    "\n",
    "#Check shape\n",
    "merged_df .shape"
   ]
  },
  {
   "cell_type": "markdown",
   "metadata": {},
   "source": [
    "**Language Detector**\n",
    "\n",
    "Not all reviews are in English and they will require translation. Assigning language of reviews as a column"
   ]
  },
  {
   "cell_type": "code",
   "execution_count": 10,
   "metadata": {},
   "outputs": [
    {
     "data": {
      "application/vnd.jupyter.widget-view+json": {
       "model_id": "16160d8d3de24d90bb87621fbd010d6d",
       "version_major": 2,
       "version_minor": 0
      },
      "text/plain": [
       "HBox(children=(FloatProgress(value=0.0, description='Pandas Apply', max=39264.0, style=ProgressStyle(descripti…"
      ]
     },
     "metadata": {},
     "output_type": "display_data"
    },
    {
     "name": "stdout",
     "output_type": "stream",
     "text": [
      "\n"
     ]
    },
    {
     "data": {
      "text/html": [
       "<div>\n",
       "<style scoped>\n",
       "    .dataframe tbody tr th:only-of-type {\n",
       "        vertical-align: middle;\n",
       "    }\n",
       "\n",
       "    .dataframe tbody tr th {\n",
       "        vertical-align: top;\n",
       "    }\n",
       "\n",
       "    .dataframe thead th {\n",
       "        text-align: right;\n",
       "    }\n",
       "</style>\n",
       "<table border=\"1\" class=\"dataframe\">\n",
       "  <thead>\n",
       "    <tr style=\"text-align: right;\">\n",
       "      <th></th>\n",
       "      <th>comments</th>\n",
       "      <th>review_scores_rating</th>\n",
       "    </tr>\n",
       "  </thead>\n",
       "  <tbody>\n",
       "    <tr>\n",
       "      <th>7790</th>\n",
       "      <td>Paul has a super nice place and is a super nic...</td>\n",
       "      <td>100.0</td>\n",
       "    </tr>\n",
       "    <tr>\n",
       "      <th>10317</th>\n",
       "      <td>Did not stay here. There was a challenge that ...</td>\n",
       "      <td>20.0</td>\n",
       "    </tr>\n",
       "    <tr>\n",
       "      <th>12146</th>\n",
       "      <td>He's great. Location is perfect, especially if...</td>\n",
       "      <td>60.0</td>\n",
       "    </tr>\n",
       "    <tr>\n",
       "      <th>27172</th>\n",
       "      <td>Rebecca's studio is great. I felt completely a...</td>\n",
       "      <td>80.0</td>\n",
       "    </tr>\n",
       "    <tr>\n",
       "      <th>507880</th>\n",
       "      <td>Susie is a great hostess, very attentive and a...</td>\n",
       "      <td>80.0</td>\n",
       "    </tr>\n",
       "  </tbody>\n",
       "</table>\n",
       "</div>"
      ],
      "text/plain": [
       "                                                 comments  \\\n",
       "7790    Paul has a super nice place and is a super nic...   \n",
       "10317   Did not stay here. There was a challenge that ...   \n",
       "12146   He's great. Location is perfect, especially if...   \n",
       "27172   Rebecca's studio is great. I felt completely a...   \n",
       "507880  Susie is a great hostess, very attentive and a...   \n",
       "\n",
       "        review_scores_rating  \n",
       "7790                   100.0  \n",
       "10317                   20.0  \n",
       "12146                   60.0  \n",
       "27172                   80.0  \n",
       "507880                  80.0  "
      ]
     },
     "metadata": {},
     "output_type": "display_data"
    }
   ],
   "source": [
    "#Read in library for language detection\n",
    "from langdetect import detect\n",
    "\n",
    "#Write function to determine language based on text data\n",
    "def language_detection(text):\n",
    "    try:\n",
    "        return detect(text)\n",
    "    except:\n",
    "        return None\n",
    "    \n",
    "#Apply language_detection to comments\n",
    "merged_df['language']=merged_df.comments.swifter.apply(language_detection)\n",
    "\n",
    "#Drop rows w/o language or are not english\n",
    "merged_df.dropna(axis = 0, inplace=True)\n",
    "merged_df = merged_df.loc[merged_df.language == 'en']\n",
    "\n",
    "#Drop language column\n",
    "merged_df.drop('language', inplace = True, axis = 1)\n",
    "\n",
    "#Check\n",
    "display(merged_df.head())"
   ]
  },
  {
   "cell_type": "markdown",
   "metadata": {},
   "source": [
    "### Write CSV"
   ]
  },
  {
   "cell_type": "code",
   "execution_count": 11,
   "metadata": {},
   "outputs": [
    {
     "name": "stdout",
     "output_type": "stream",
     "text": [
      "Data shape: (36750, 2)\n"
     ]
    }
   ],
   "source": [
    "#Print merged_df shape\n",
    "print(\"Data shape:\", merged_df.shape)\n",
    "\n",
    "#Set path and write file\n",
    "path = r'C:\\Users\\kishe\\Documents\\Data Science\\Projects\\Python\\In Progress\\Airbnb - San Francisco\\Data\\02_Cleaned'\n",
    "merged_df.to_csv(path + '/2020_0526_Reviews_Cleaned.csv')"
   ]
  }
 ],
 "metadata": {
  "kernelspec": {
   "display_name": "NLP",
   "language": "python",
   "name": "nlp"
  },
  "language_info": {
   "codemirror_mode": {
    "name": "ipython",
    "version": 3
   },
   "file_extension": ".py",
   "mimetype": "text/x-python",
   "name": "python",
   "nbconvert_exporter": "python",
   "pygments_lexer": "ipython3",
   "version": "3.7.7"
  }
 },
 "nbformat": 4,
 "nbformat_minor": 4
}
